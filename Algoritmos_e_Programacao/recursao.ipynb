{
 "cells": [
  {
   "cell_type": "markdown",
   "metadata": {},
   "source": [
    "## Recursão"
   ]
  },
  {
   "cell_type": "markdown",
   "metadata": {},
   "source": [
    "Problema: calcular fatoração \"n! = n * (n-1)!\"."
   ]
  },
  {
   "cell_type": "code",
   "execution_count": 1,
   "metadata": {},
   "outputs": [],
   "source": [
    "def fat(n):\n",
    "    if n == 0:\n",
    "        return 1\n",
    "    else:\n",
    "        res = n * fat(n-1)\n",
    "        return res"
   ]
  },
  {
   "cell_type": "code",
   "execution_count": 2,
   "metadata": {},
   "outputs": [
    {
     "data": {
      "text/plain": [
       "24"
      ]
     },
     "execution_count": 2,
     "metadata": {},
     "output_type": "execute_result"
    }
   ],
   "source": [
    "fat(4)"
   ]
  },
  {
   "cell_type": "markdown",
   "metadata": {},
   "source": [
    "Problema: n-ésimo termo de Fibonacci."
   ]
  },
  {
   "cell_type": "code",
   "execution_count": 3,
   "metadata": {},
   "outputs": [],
   "source": [
    "def fib_rec(n):\n",
    "    if n <2:\n",
    "        return n\n",
    "    else:\n",
    "        return fib_rec(n-1) + fib_rec(n-2)"
   ]
  },
  {
   "cell_type": "code",
   "execution_count": 4,
   "metadata": {},
   "outputs": [
    {
     "data": {
      "text/plain": [
       "3"
      ]
     },
     "execution_count": 4,
     "metadata": {},
     "output_type": "execute_result"
    }
   ],
   "source": [
    "fib_rec(4)"
   ]
  },
  {
   "cell_type": "markdown",
   "metadata": {},
   "source": [
    "## Fibonacci Recursivo x Finonacci Iterativo"
   ]
  },
  {
   "cell_type": "code",
   "execution_count": 13,
   "metadata": {},
   "outputs": [],
   "source": [
    "import time "
   ]
  },
  {
   "cell_type": "code",
   "execution_count": 16,
   "metadata": {},
   "outputs": [
    {
     "name": "stdout",
     "output_type": "stream",
     "text": [
      "832040\n",
      "Recursive: 1.7807822227478027 seconds\n",
      "832040\n",
      "Iterative: 0.0 seconds\n"
     ]
    }
   ],
   "source": [
    "def fib_rec(n):\n",
    "    if n <2:\n",
    "        return n\n",
    "    else:\n",
    "        return fib_rec(n-1) + fib_rec(n-2)\n",
    "    \n",
    "\n",
    "def fib_it(n):\n",
    "    res = n\n",
    "    a, b = 0, 1\n",
    "    for k in range(2, n+1):\n",
    "        res = a + b\n",
    "        a, b = b, res\n",
    "    return res\n",
    "\n",
    "\n",
    "n = 30\n",
    "start = time.time()\n",
    "print(fib_rec(n))\n",
    "print('Recursive: {} seconds'.format(time.time() - start))\n",
    "\n",
    "start = time.time()\n",
    "print(fib_it(n))\n",
    "print('Iterative: {} seconds'.format(time.time() - start))\n"
   ]
  },
  {
   "cell_type": "markdown",
   "metadata": {},
   "source": [
    "## Memoização"
   ]
  },
  {
   "cell_type": "markdown",
   "metadata": {},
   "source": [
    "Memoização do n-ésimo termo da sequência de Fibonacc."
   ]
  },
  {
   "cell_type": "code",
   "execution_count": 18,
   "metadata": {},
   "outputs": [
    {
     "name": "stdout",
     "output_type": "stream",
     "text": [
      "832040\n",
      "Memoization: 0.0009989738464355469 seconds\n"
     ]
    }
   ],
   "source": [
    "m = dict()\n",
    "def fib_mem(n):\n",
    "    if n < 2:\n",
    "        return n\n",
    "    elif m.get(n) != None:\n",
    "        return m[n]\n",
    "    else:\n",
    "        m[n] = fib_mem(n-1) + fib_mem(n-2)\n",
    "        return m[n]\n",
    "    \n",
    "\n",
    "n = 30\n",
    "start = time.time()\n",
    "print(fib_mem(n))\n",
    "print('Memoization: {} seconds'.format(time.time() - start))"
   ]
  },
  {
   "cell_type": "markdown",
   "metadata": {},
   "source": [
    "- Recursive: 1.7807822227478027 seconds\n",
    "- Iterative: 0.0 seconds\n",
    "- Memoization: 0.0009989738464355469 seconds\n",
    "\n",
    "Levando em consideração os resultados acima, fica evidente que a memoização otimiza o tempo de execução de funções recursivas."
   ]
  },
  {
   "cell_type": "markdown",
   "metadata": {},
   "source": [
    "## Função Recursiva: Busca Binária"
   ]
  },
  {
   "cell_type": "code",
   "execution_count": 16,
   "metadata": {},
   "outputs": [],
   "source": [
    "def busca_binaria(l, x, inicio, fim):\n",
    "    meio = (inicio + fim) // 2\n",
    "\n",
    "    if fim < inicio: \n",
    "        return -1 # Retorna \"-1\" quando não encontra o elemento.\n",
    "\n",
    "    if x == l[meio]:\n",
    "        return meio\n",
    "    \n",
    "    if x < l[meio]:\n",
    "        return busca_binaria(l, x, inicio, meio - 1)\n",
    "    \n",
    "    if x > l[meio]:\n",
    "        return busca_binaria(l, x, meio + 1, fim)"
   ]
  },
  {
   "cell_type": "markdown",
   "metadata": {},
   "source": [
    "Gerar lista com números aleatórios."
   ]
  },
  {
   "cell_type": "code",
   "execution_count": 11,
   "metadata": {},
   "outputs": [],
   "source": [
    "import random"
   ]
  },
  {
   "cell_type": "markdown",
   "metadata": {},
   "source": [
    "Números de 0 a 99 e uma lista com 20 elementos."
   ]
  },
  {
   "cell_type": "code",
   "execution_count": 12,
   "metadata": {},
   "outputs": [
    {
     "data": {
      "text/plain": [
       "[85, 92, 40, 32, 3, 61, 73, 20, 75, 21, 38, 88, 52, 22, 55, 90, 71, 1, 6, 0]"
      ]
     },
     "execution_count": 12,
     "metadata": {},
     "output_type": "execute_result"
    }
   ],
   "source": [
    "l = random.sample(range(100), 20)\n",
    "l"
   ]
  },
  {
   "cell_type": "markdown",
   "metadata": {},
   "source": [
    "Ordenar os valores com a função \".sort( )\""
   ]
  },
  {
   "cell_type": "code",
   "execution_count": 13,
   "metadata": {},
   "outputs": [
    {
     "data": {
      "text/plain": [
       "[0, 1, 3, 6, 20, 21, 22, 32, 38, 40, 52, 55, 61, 71, 73, 75, 85, 88, 90, 92]"
      ]
     },
     "execution_count": 13,
     "metadata": {},
     "output_type": "execute_result"
    }
   ],
   "source": [
    "l.sort()\n",
    "l"
   ]
  },
  {
   "cell_type": "markdown",
   "metadata": {},
   "source": [
    "Fazendo uma busca usando a função \"busca_binaria\"."
   ]
  },
  {
   "cell_type": "code",
   "execution_count": 17,
   "metadata": {},
   "outputs": [
    {
     "data": {
      "text/plain": [
       "9"
      ]
     },
     "execution_count": 17,
     "metadata": {},
     "output_type": "execute_result"
    }
   ],
   "source": [
    "busca_binaria(l, 40, 0, 19)"
   ]
  }
 ],
 "metadata": {
  "kernelspec": {
   "display_name": "Python 3",
   "language": "python",
   "name": "python3"
  },
  "language_info": {
   "codemirror_mode": {
    "name": "ipython",
    "version": 3
   },
   "file_extension": ".py",
   "mimetype": "text/x-python",
   "name": "python",
   "nbconvert_exporter": "python",
   "pygments_lexer": "ipython3",
   "version": "3.12.3"
  }
 },
 "nbformat": 4,
 "nbformat_minor": 2
}
