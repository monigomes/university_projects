{
 "cells": [
  {
   "cell_type": "markdown",
   "metadata": {},
   "source": [
    "## Algoritmos de Ordenação Elementares: Não Recursivos"
   ]
  },
  {
   "cell_type": "markdown",
   "metadata": {},
   "source": [
    "### Bubble Sort"
   ]
  },
  {
   "cell_type": "code",
   "execution_count": 2,
   "metadata": {},
   "outputs": [],
   "source": [
    "import random"
   ]
  },
  {
   "cell_type": "code",
   "execution_count": 12,
   "metadata": {},
   "outputs": [
    {
     "data": {
      "text/plain": [
       "[34, 11, 53, 74, 97, 8, 9, 42, 25, 77, 27, 26, 29, 82, 56, 92, 65, 10, 48, 86]"
      ]
     },
     "execution_count": 12,
     "metadata": {},
     "output_type": "execute_result"
    }
   ],
   "source": [
    "v = random.sample(range(100), 20)\n",
    "v"
   ]
  },
  {
   "cell_type": "code",
   "execution_count": 13,
   "metadata": {},
   "outputs": [],
   "source": [
    "def bubble_sort(v):\n",
    "    for i in range(len(v)-1):\n",
    "        for j in range(len(v)-i-1):\n",
    "            if(v[j] > v[j+1]):\n",
    "                v[j], v[j+1] = v[j+1], v[j]"
   ]
  },
  {
   "cell_type": "code",
   "execution_count": 14,
   "metadata": {},
   "outputs": [
    {
     "name": "stdout",
     "output_type": "stream",
     "text": [
      "Lista antes da ordenação: [34, 11, 53, 74, 97, 8, 9, 42, 25, 77, 27, 26, 29, 82, 56, 92, 65, 10, 48, 86]\n",
      "Lista após a ordenação: [8, 9, 10, 11, 25, 26, 27, 29, 34, 42, 48, 53, 56, 65, 74, 77, 82, 86, 92, 97]\n"
     ]
    }
   ],
   "source": [
    "print(\"Lista antes da ordenação:\", v)\n",
    "bubble_sort(v)\n",
    "print(\"Lista após a ordenação:\", v)"
   ]
  },
  {
   "cell_type": "markdown",
   "metadata": {},
   "source": [
    "### Insertion sort"
   ]
  },
  {
   "cell_type": "code",
   "execution_count": 17,
   "metadata": {},
   "outputs": [
    {
     "data": {
      "text/plain": [
       "[89, 60, 30, 24, 73, 83, 2, 9, 84, 46]"
      ]
     },
     "execution_count": 17,
     "metadata": {},
     "output_type": "execute_result"
    }
   ],
   "source": [
    "import random\n",
    "v = random.sample(range(100), 10)\n",
    "v"
   ]
  },
  {
   "cell_type": "code",
   "execution_count": 18,
   "metadata": {},
   "outputs": [],
   "source": [
    "def insertion_sort(v):\n",
    "    for i in range(1, len(v)):\n",
    "        x = v[i]\n",
    "        j = i - 1\n",
    "        while j >= 0 and x < v[j]:\n",
    "            v[j + 1] = v[j]\n",
    "            j -= 1\n",
    "            v[j+1] = x "
   ]
  },
  {
   "cell_type": "code",
   "execution_count": 19,
   "metadata": {},
   "outputs": [
    {
     "name": "stdout",
     "output_type": "stream",
     "text": [
      "Lista antes da ordenação: [89, 60, 30, 24, 73, 83, 2, 9, 84, 46]\n",
      "Lista após a ordenação: [2, 9, 24, 30, 46, 60, 73, 83, 84, 89]\n"
     ]
    }
   ],
   "source": [
    "print(\"Lista antes da ordenação:\", v)\n",
    "insertion_sort(v)\n",
    "print(\"Lista após a ordenação:\", v)"
   ]
  },
  {
   "cell_type": "markdown",
   "metadata": {},
   "source": [
    "### Selection Sort"
   ]
  },
  {
   "cell_type": "code",
   "execution_count": 1,
   "metadata": {},
   "outputs": [
    {
     "name": "stdout",
     "output_type": "stream",
     "text": [
      "[20, 13, 44, 36]\n",
      "trocou 20 por 13\n",
      "[13, 20, 44, 36]\n",
      "não trocou\n",
      "[13, 20, 44, 36]\n",
      "trocou 44 por 36\n",
      "[13, 20, 36, 44]\n",
      "não trocou\n",
      "[13, 20, 36, 44]\n"
     ]
    }
   ],
   "source": [
    "import random\n",
    "\n",
    "lista = []\n",
    "\n",
    "n = int(input('\\nn: '))\n",
    "for i in range(n):\n",
    "    ichave = int((random.random() * 50) % 100)\n",
    "    lista.append(ichave)\n",
    "\n",
    "print(lista)\n",
    "\n",
    "for i in range(len(lista)):\n",
    "    menor = i\n",
    "    for j in range(i + 1, len(lista)):\n",
    "        if lista[j] < lista[menor]:\n",
    "            menor = j\n",
    "    if lista[i] != lista[menor]:\n",
    "        aux = lista[i]\n",
    "        lista[i] = lista[menor]\n",
    "        lista[menor] = aux\n",
    "        print('trocou {:2} por {:2}'.format(aux, lista[i]))\n",
    "    else:\n",
    "        print('não trocou')\n",
    "    print(lista)"
   ]
  },
  {
   "cell_type": "markdown",
   "metadata": {},
   "source": [
    "## Algoritmos de Ordenação Elementares: Recursivos"
   ]
  },
  {
   "cell_type": "markdown",
   "metadata": {},
   "source": [
    "### Merge Sort"
   ]
  },
  {
   "cell_type": "code",
   "execution_count": 11,
   "metadata": {},
   "outputs": [
    {
     "name": "stdout",
     "output_type": "stream",
     "text": [
      "Lista antes da ordenação: [8, 77, 27, 63, 47, 4, 83, 61, 6, 99]\n"
     ]
    }
   ],
   "source": [
    "import random\n",
    "v = random.sample(range(100), 10)\n",
    "print(\"Lista antes da ordenação:\", v)"
   ]
  },
  {
   "cell_type": "code",
   "execution_count": 12,
   "metadata": {},
   "outputs": [
    {
     "name": "stdout",
     "output_type": "stream",
     "text": [
      "Lista após a ordenação: [4, 6, 8, 27, 47, 61, 63, 77, 83, 99]\n"
     ]
    }
   ],
   "source": [
    "def merge_sort(v, ini, fim):\n",
    "    if ini < fim:\n",
    "        meio = (ini + fim) // 2\n",
    "        merge_sort(v, ini, meio)       # Chamada para a primeira metade\n",
    "        merge_sort(v, meio + 1, fim)    # Chamada para a segunda metade\n",
    "        intercala(v, ini, meio, fim)\n",
    "\n",
    "\n",
    "def intercala(v, ini, meio, fim):\n",
    "    L = v[ini:meio + 1]\n",
    "    R = v[meio + 1: fim + 1]\n",
    "    L.append(float('inf')) #sentinela\n",
    "    R.append(float('inf')) #sentinela\n",
    "    i = 0\n",
    "    j = 0\n",
    "    for k in range(ini, fim +1):\n",
    "        if L[i] <= R[j]:\n",
    "            v[k] = L[i]\n",
    "            i += 1\n",
    "        else:\n",
    "            v[k] = R[j]\n",
    "            j += 1\n",
    "\n",
    "\n",
    "\n",
    "merge_sort(v, 0, len(v) - 1)\n",
    "print(\"Lista após a ordenação:\", v)"
   ]
  },
  {
   "cell_type": "markdown",
   "metadata": {},
   "source": [
    "### Quick Sort"
   ]
  },
  {
   "cell_type": "code",
   "execution_count": 15,
   "metadata": {},
   "outputs": [
    {
     "name": "stdout",
     "output_type": "stream",
     "text": [
      "Lista antes da ordenação: [26, 15, 95, 4, 57, 82, 64, 33, 91, 89]\n"
     ]
    }
   ],
   "source": [
    "import random\n",
    "\n",
    "v = random.sample(range(100), 10)\n",
    "print(\"Lista antes da ordenação:\", v)"
   ]
  },
  {
   "cell_type": "code",
   "execution_count": 16,
   "metadata": {},
   "outputs": [
    {
     "name": "stdout",
     "output_type": "stream",
     "text": [
      "Lista após a ordenação: [4, 15, 26, 33, 57, 64, 82, 89, 91, 95]\n"
     ]
    }
   ],
   "source": [
    "def quick_sort(v, ini, fim):\n",
    "    meio = (ini + fim) // 2\n",
    "    pivo = v[meio]\n",
    "    i = ini\n",
    "    j = fim\n",
    "    while i < j:\n",
    "        while v[i] < pivo:\n",
    "            i += 1\n",
    "        while v[j] > pivo:\n",
    "            j -= 1\n",
    "        if i <= j:\n",
    "            v[i], v[j] = v[j], v[i]\n",
    "        i += 1\n",
    "        j -= 1\n",
    "    if j > ini: # Chamadas recursivas para ordenar as partições\n",
    "        quick_sort(v, ini, j)\n",
    "    if i < fim:\n",
    "        quick_sort(v, i, fim)\n",
    "\n",
    "\n",
    "quick_sort(v, 0, len(v) - 1)\n",
    "print(\"Lista após a ordenação:\", v)"
   ]
  }
 ],
 "metadata": {
  "kernelspec": {
   "display_name": "Python 3",
   "language": "python",
   "name": "python3"
  },
  "language_info": {
   "codemirror_mode": {
    "name": "ipython",
    "version": 3
   },
   "file_extension": ".py",
   "mimetype": "text/x-python",
   "name": "python",
   "nbconvert_exporter": "python",
   "pygments_lexer": "ipython3",
   "version": "3.12.3"
  }
 },
 "nbformat": 4,
 "nbformat_minor": 2
}
