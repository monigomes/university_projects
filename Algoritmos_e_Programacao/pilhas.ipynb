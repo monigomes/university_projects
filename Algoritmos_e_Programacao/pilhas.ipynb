{
 "cells": [
  {
   "cell_type": "markdown",
   "metadata": {},
   "source": [
    "## Pilhas"
   ]
  },
  {
   "cell_type": "code",
   "execution_count": 1,
   "metadata": {},
   "outputs": [],
   "source": [
    "class Pilha():\n",
    "    def __init__(self):\n",
    "        self.data = [] # Lista vazia onde armazenaremos os elementos da pilha.\n",
    "\n",
    "    def push(self, x): # Inserir um elemento 'x' dentro da pilha.\n",
    "        self.data.append(x) # Inserir no final da lista o elemento 'x'.\n",
    "\n",
    "    def pop(self): # Remover um elemento da lista.\n",
    "        if len(self.data) > 0: # Verifica se o elemento da lista é maior que zero, pois para remover precisamos que exista ao menos um elemento.\n",
    "            return self.data.pop(-1) # Se for verdadeira retornará a lista menos o último elemento.\n",
    "        \n",
    "    def top(self):\n",
    "        if len(self.data) > 0:\n",
    "            return self.data(-1) # Consulta o último elemento da lista\n",
    "        \n",
    "    def empty(self):\n",
    "        return not len(self.data) > 0 # Retorna \"true\" caso a pilha esteja vazia."
   ]
  },
  {
   "cell_type": "markdown",
   "metadata": {},
   "source": [
    "### Programa para transformar números em binários"
   ]
  },
  {
   "cell_type": "code",
   "execution_count": null,
   "metadata": {},
   "outputs": [
    {
     "name": "stdout",
     "output_type": "stream",
     "text": [
      "1\n",
      "1\n",
      "0\n",
      "1\n"
     ]
    }
   ],
   "source": [
    "# Programa para transformar números em binários.\n",
    "\n",
    "p = Pilha()\n",
    "numero = 13\n",
    "while numero > 0:\n",
    "    resto = numero % 2\n",
    "    numero = numero // 2\n",
    "    p.push(resto)\n",
    "\n",
    "while not p.empty():\n",
    "    print(p.pop())"
   ]
  },
  {
   "cell_type": "code",
   "execution_count": null,
   "metadata": {},
   "outputs": [],
   "source": [
    "# Instanciar uma Pilha\n",
    "\n",
    "p = Pilha()\n",
    "\n",
    "p.push(4)\n",
    "p.push(5)\n",
    "p.push(6)\n",
    "\n",
    "p.pop() # Remove o último elemento que foi inserido.\n"
   ]
  },
  {
   "cell_type": "markdown",
   "metadata": {},
   "source": [
    "O número 13 em decimal (13d) equivale a 1101."
   ]
  },
  {
   "cell_type": "markdown",
   "metadata": {},
   "source": [
    "## Filas"
   ]
  },
  {
   "cell_type": "code",
   "execution_count": 3,
   "metadata": {},
   "outputs": [],
   "source": [
    "class Fila():\n",
    "    def __init__(self):\n",
    "        self.data1 = []\n",
    "\n",
    "    def inserir(self, x):\n",
    "        self.data1.append(x)\n",
    "\n",
    "    def remover(self):\n",
    "        if len(self.data1) > 0:\n",
    "            return self.data1.pop(0)\n",
    "        \n",
    "    def top(self):\n",
    "        if len(self.data2) > 0:\n",
    "            return self.data2[0]\n",
    "        \n",
    "    def empty(self):\n",
    "        return not len(self.data2) > 0 # Retorna \"true\" caso esteja vazia e \"false\" caso haja elementos na lista."
   ]
  }
 ],
 "metadata": {
  "kernelspec": {
   "display_name": "Python 3",
   "language": "python",
   "name": "python3"
  },
  "language_info": {
   "codemirror_mode": {
    "name": "ipython",
    "version": 3
   },
   "file_extension": ".py",
   "mimetype": "text/x-python",
   "name": "python",
   "nbconvert_exporter": "python",
   "pygments_lexer": "ipython3",
   "version": "3.12.3"
  }
 },
 "nbformat": 4,
 "nbformat_minor": 2
}
